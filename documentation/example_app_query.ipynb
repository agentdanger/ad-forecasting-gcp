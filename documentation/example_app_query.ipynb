{
 "cells": [
  {
   "cell_type": "code",
   "execution_count": 1,
   "id": "c982dc05",
   "metadata": {},
   "outputs": [],
   "source": [
    "import requests\n",
    "import pandas as pd\n",
    "from datetime import datetime, timedelta\n",
    "import matplotlib.pyplot as plt\n",
    "\n",
    "# parameters below can be set to any combination of these options for maximum effectiveness.\n",
    "# model can still predict if values are not set correctly.  Capitalization does matter.\n",
    "\n",
    "# client options [2, 3, 4, 5, 6, 7, 8, 12, 13, 14, 15, 16, 121, 122, 123, 138, 140]\n",
    "# seasongroup options [\"Full Year\", \"Group Sales\", \"Haunt\", \"Resorts\", \"Season Pass Experience\", \"Winterfest\"]\n",
    "# funnel options [\"Conversion\"]\n",
    "# mediatype options [\"Audio\", \"Display_Desck\", \"Display_Direct\", \"Facebook\", \"FBIG\", \"Instagram\", \n",
    "#                    \"Paid Search: Brand Keywords\", \"Paid Social Other\", \"Video_FEP\", \"Video_Preroll_Desck\"\n",
    "#                    \"Video_Preroll_Direct\", \"YouTube\"\n",
    "\n",
    "# set parameters here.\n",
    "\n",
    "start_date='2022-10-01' #YYYY-MM-DD\n",
    "end_date='2022-10-31' #YYYY-MM-DD\n",
    "client=3\n",
    "seasongroup=\"Haunt\"\n",
    "funnel=\"Conversion\"  # only the conversion model exists in this application.\n",
    "mediatype=\"Facebook\"\n",
    "spend=4000 # any integer works.  Values should be reasonable\n",
    "impressions=350000 # any integer works.  Values should be reasonable\n",
    "\n",
    "date_time_obj1 = datetime.strptime(start_date, '%Y-%m-%d')\n",
    "date_time_obj2 = datetime.strptime(end_date, '%Y-%m-%d')\n",
    "\n",
    "delta = date_time_obj2-date_time_obj1\n",
    "\n",
    "delta_days = delta.days\n",
    "media_days = delta.days + 1\n",
    "\n",
    "#resp = requests.get(url=url, params=params)\n"
   ]
  },
  {
   "cell_type": "code",
   "execution_count": 2,
   "id": "173c57f7",
   "metadata": {},
   "outputs": [
    {
     "data": {
      "text/plain": [
       "31"
      ]
     },
     "execution_count": 2,
     "metadata": {},
     "output_type": "execute_result"
    }
   ],
   "source": [
    "media_days"
   ]
  },
  {
   "cell_type": "code",
   "execution_count": 3,
   "id": "1257b007",
   "metadata": {},
   "outputs": [],
   "source": [
    "url = 'https://ad-forecasting-nu-prod.uc.r.appspot.com/'\n",
    "url += '?start_date={0}&end_date={1}'\n",
    "url += '&client={2}&seasongroup=\"{3}\"'\n",
    "url += '&funnel=\"{4}\"&mediatype=\"{5}\"'\n",
    "url += '&spend={6}&impressions={7}'\n",
    "\n",
    "url_str = url.format(start_date,\n",
    "                     end_date,\n",
    "                     client,\n",
    "                     seasongroup,\n",
    "                     funnel,\n",
    "                     mediatype,\n",
    "                     spend,\n",
    "                     impressions\n",
    "                    )"
   ]
  },
  {
   "cell_type": "code",
   "execution_count": 4,
   "id": "e67a6d93",
   "metadata": {},
   "outputs": [
    {
     "data": {
      "text/plain": [
       "'https://ad-forecasting-nu-prod.uc.r.appspot.com/?start_date=2022-10-01&end_date=2022-10-31&client=3&seasongroup=\"Haunt\"&funnel=\"Conversion\"&mediatype=\"Facebook\"&spend=4000&impressions=350000'"
      ]
     },
     "execution_count": 4,
     "metadata": {},
     "output_type": "execute_result"
    }
   ],
   "source": [
    "url_str"
   ]
  },
  {
   "cell_type": "code",
   "execution_count": 5,
   "id": "e8d84c86",
   "metadata": {},
   "outputs": [],
   "source": [
    "resp = requests.get(url=url_str)\n",
    "data = resp.json() # Check the JSON Response Content documentation below"
   ]
  },
  {
   "cell_type": "code",
   "execution_count": 6,
   "id": "d6aee010",
   "metadata": {},
   "outputs": [
    {
     "data": {
      "text/plain": [
       "{'total_prediction': 179786.7142857143,\n",
       " 'dates': ['2022-10-01',\n",
       "  '2022-10-02',\n",
       "  '2022-10-03',\n",
       "  '2022-10-04',\n",
       "  '2022-10-05',\n",
       "  '2022-10-06',\n",
       "  '2022-10-07'],\n",
       " 'daily_prediction': [7309, 7309, 5195, 5195, 5195, 5195, 5195]}"
      ]
     },
     "execution_count": 6,
     "metadata": {},
     "output_type": "execute_result"
    }
   ],
   "source": [
    "data"
   ]
  },
  {
   "cell_type": "code",
   "execution_count": 7,
   "id": "a6ac2077",
   "metadata": {},
   "outputs": [],
   "source": [
    "ttl_pred_val = data['total_prediction']\n"
   ]
  },
  {
   "cell_type": "code",
   "execution_count": 8,
   "id": "955bebe0",
   "metadata": {},
   "outputs": [],
   "source": [
    "dates = data['dates']\n",
    "predictions = data['daily_prediction']"
   ]
  },
  {
   "cell_type": "code",
   "execution_count": 9,
   "id": "43f5f6d0",
   "metadata": {},
   "outputs": [],
   "source": [
    "zipped_data = zip(dates, predictions)\n",
    "\n",
    "df = pd.DataFrame(zipped_data, columns=['dates','predicted_value'])\n",
    "df['dates'] = pd.to_datetime(df['dates'])\n",
    "\n",
    "df['days'] = df['dates'].dt.day_name()"
   ]
  },
  {
   "cell_type": "code",
   "execution_count": 10,
   "id": "cb0430eb",
   "metadata": {},
   "outputs": [
    {
     "data": {
      "text/html": [
       "<div>\n",
       "<style scoped>\n",
       "    .dataframe tbody tr th:only-of-type {\n",
       "        vertical-align: middle;\n",
       "    }\n",
       "\n",
       "    .dataframe tbody tr th {\n",
       "        vertical-align: top;\n",
       "    }\n",
       "\n",
       "    .dataframe thead th {\n",
       "        text-align: right;\n",
       "    }\n",
       "</style>\n",
       "<table border=\"1\" class=\"dataframe\">\n",
       "  <thead>\n",
       "    <tr style=\"text-align: right;\">\n",
       "      <th></th>\n",
       "      <th>dates</th>\n",
       "      <th>predicted_value</th>\n",
       "      <th>days</th>\n",
       "    </tr>\n",
       "  </thead>\n",
       "  <tbody>\n",
       "    <tr>\n",
       "      <th>0</th>\n",
       "      <td>2022-10-01</td>\n",
       "      <td>7309</td>\n",
       "      <td>Saturday</td>\n",
       "    </tr>\n",
       "    <tr>\n",
       "      <th>1</th>\n",
       "      <td>2022-10-02</td>\n",
       "      <td>7309</td>\n",
       "      <td>Sunday</td>\n",
       "    </tr>\n",
       "    <tr>\n",
       "      <th>2</th>\n",
       "      <td>2022-10-03</td>\n",
       "      <td>5195</td>\n",
       "      <td>Monday</td>\n",
       "    </tr>\n",
       "    <tr>\n",
       "      <th>3</th>\n",
       "      <td>2022-10-04</td>\n",
       "      <td>5195</td>\n",
       "      <td>Tuesday</td>\n",
       "    </tr>\n",
       "    <tr>\n",
       "      <th>4</th>\n",
       "      <td>2022-10-05</td>\n",
       "      <td>5195</td>\n",
       "      <td>Wednesday</td>\n",
       "    </tr>\n",
       "    <tr>\n",
       "      <th>5</th>\n",
       "      <td>2022-10-06</td>\n",
       "      <td>5195</td>\n",
       "      <td>Thursday</td>\n",
       "    </tr>\n",
       "    <tr>\n",
       "      <th>6</th>\n",
       "      <td>2022-10-07</td>\n",
       "      <td>5195</td>\n",
       "      <td>Friday</td>\n",
       "    </tr>\n",
       "  </tbody>\n",
       "</table>\n",
       "</div>"
      ],
      "text/plain": [
       "       dates  predicted_value       days\n",
       "0 2022-10-01             7309   Saturday\n",
       "1 2022-10-02             7309     Sunday\n",
       "2 2022-10-03             5195     Monday\n",
       "3 2022-10-04             5195    Tuesday\n",
       "4 2022-10-05             5195  Wednesday\n",
       "5 2022-10-06             5195   Thursday\n",
       "6 2022-10-07             5195     Friday"
      ]
     },
     "execution_count": 10,
     "metadata": {},
     "output_type": "execute_result"
    }
   ],
   "source": [
    "df.head(7)"
   ]
  },
  {
   "cell_type": "code",
   "execution_count": 11,
   "id": "7fadb978",
   "metadata": {},
   "outputs": [
    {
     "name": "stdout",
     "output_type": "stream",
     "text": [
      "Total Budget: $4000\n",
      "CPM during plan: $0.09\n",
      "ROAS: $44.95\n"
     ]
    },
    {
     "data": {
      "image/png": "[encoded data removed]",
      "text/plain": [
       "<Figure size 432x288 with 1 Axes>"
      ]
     },
     "metadata": {
      "needs_background": "light"
     },
     "output_type": "display_data"
    }
   ],
   "source": [
    "total_budget = spend\n",
    "cpm = (impressions/1000)/spend\n",
    "roas = ttl_pred_val/spend\n",
    "\n",
    "\n",
    "\n",
    "\n",
    "print('Total Budget: ${0}'.format(total_budget))\n",
    "print('CPM during plan: ${0}'.format(round(cpm,2)))\n",
    "print('ROAS: ${0}'.format(round(roas,2)))\n",
    "ax = df.plot.bar('days', 'predicted_value', title='Expected Revenue Trend')\n",
    "for container in ax.containers:\n",
    "    ax.bar_label(container)\n",
    "plt.show()"
   ]
  },
  {
   "cell_type": "code",
   "execution_count": null,
   "id": "b8783eea",
   "metadata": {},
   "outputs": [],
   "source": []
  }
 ],
 "metadata": {
  "kernelspec": {
   "display_name": "Python 3 (ipykernel)",
   "language": "python",
   "name": "python3"
  },
  "language_info": {
   "codemirror_mode": {
    "name": "ipython",
    "version": 3
   },
   "file_extension": ".py",
   "mimetype": "text/x-python",
   "name": "python",
   "nbconvert_exporter": "python",
   "pygments_lexer": "ipython3",
   "version": "3.9.7"
  }
 },
 "nbformat": 4,
 "nbformat_minor": 5
}
